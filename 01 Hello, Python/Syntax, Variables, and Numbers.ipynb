{
 "cells": [
  {
   "cell_type": "markdown",
   "id": "ff2ef9de-7449-474e-aa95-e929884be5f8",
   "metadata": {},
   "source": [
    "### 1\n",
    "***"
   ]
  },
  {
   "cell_type": "code",
   "execution_count": 1,
   "id": "65795ba8-b630-4810-a8ea-b356a5f37b37",
   "metadata": {},
   "outputs": [],
   "source": [
    "pi = 3.14159 # approximate\n",
    "diameter = 3\n",
    "\n",
    "# Create a variable called 'radius' equal to half the diameter\n",
    "radius = diameter/2\n",
    "\n",
    "# Create a variable called 'area', using the formula for the area of a circle: pi times the radius squared\n",
    "area = pi * radius**2"
   ]
  },
  {
   "cell_type": "markdown",
   "id": "7eced988-482b-475d-9dfd-35d571797a88",
   "metadata": {},
   "source": [
    "<br>"
   ]
  },
  {
   "cell_type": "markdown",
   "id": "6a128761-b20d-4dd0-8fb9-6824ca924139",
   "metadata": {},
   "source": [
    "<br>"
   ]
  },
  {
   "cell_type": "markdown",
   "id": "2bd36201-2401-42f2-9e4e-8cb1ee07f64f",
   "metadata": {},
   "source": [
    "### 2\n",
    "***"
   ]
  },
  {
   "cell_type": "code",
   "execution_count": 1,
   "id": "e8f681d7-fad9-4e06-9877-13715d500156",
   "metadata": {},
   "outputs": [],
   "source": [
    "########### Setup code - don't touch this part ######################\n",
    "# If you're curious, these are examples of lists. We'll talk about \n",
    "# them in depth a few lessons from now. For now, just know that they're\n",
    "# yet another type of Python object, like int or float.\n",
    "a = [1, 2, 3]\n",
    "b = [3, 2, 1]\n",
    "######################################################################\n",
    "\n",
    "# Your code goes here. Swap the values to which a and b refer.\n",
    "# If you get stuck, you can always uncomment one or both of the lines in\n",
    "# the next cell for a hint, or to peek at the solution.\n",
    "a, b = b, a\n",
    "######################################################################"
   ]
  },
  {
   "cell_type": "markdown",
   "id": "22d096e0-adda-456a-a17e-d12acf313a33",
   "metadata": {},
   "source": [
    "<br>"
   ]
  },
  {
   "cell_type": "markdown",
   "id": "e27d6f35-5405-4fef-8471-987d739df0ae",
   "metadata": {},
   "source": [
    "<br>"
   ]
  },
  {
   "cell_type": "markdown",
   "id": "10e858aa-6067-4821-b40b-936709c8934e",
   "metadata": {},
   "source": [
    "### 3a\n",
    "***"
   ]
  },
  {
   "cell_type": "code",
   "execution_count": 1,
   "id": "064ce9a8-6b10-4e0b-86de-03533ab044c0",
   "metadata": {},
   "outputs": [
    {
     "data": {
      "text/plain": [
       "1"
      ]
     },
     "execution_count": 1,
     "metadata": {},
     "output_type": "execute_result"
    }
   ],
   "source": [
    "(5 - 3) // 2"
   ]
  },
  {
   "cell_type": "markdown",
   "id": "66a8ae54-963a-46e1-8d94-b7a904b88a05",
   "metadata": {},
   "source": [
    "<br>"
   ]
  },
  {
   "cell_type": "markdown",
   "id": "4ecf11d7-2f08-41e0-98c7-22cd9b8c6219",
   "metadata": {},
   "source": [
    "<br>"
   ]
  },
  {
   "cell_type": "markdown",
   "id": "0e3caa04-3dcf-48b1-8a34-2104bcd53cb7",
   "metadata": {},
   "source": [
    "### 3b\n",
    "***"
   ]
  },
  {
   "cell_type": "code",
   "execution_count": 1,
   "id": "078fbdca-830e-4461-ac50-c8aa6e818bd7",
   "metadata": {},
   "outputs": [
    {
     "data": {
      "text/plain": [
       "0"
      ]
     },
     "execution_count": 1,
     "metadata": {},
     "output_type": "execute_result"
    }
   ],
   "source": [
    "8 - (3 * 2) - (1 + 1)"
   ]
  },
  {
   "cell_type": "markdown",
   "id": "892a1f56-5c64-408f-9647-5a6ffc4a2907",
   "metadata": {},
   "source": [
    "<br>"
   ]
  },
  {
   "cell_type": "markdown",
   "id": "91b93726-a6a0-4127-a245-9da173dd7090",
   "metadata": {},
   "source": [
    "<br>"
   ]
  },
  {
   "cell_type": "markdown",
   "id": "4d8ec448-57c3-4299-9425-3e3880cf6e6f",
   "metadata": {},
   "source": [
    "### 4\n",
    "***"
   ]
  },
  {
   "cell_type": "code",
   "execution_count": 1,
   "id": "31dbdf1c-f018-48fd-9697-7bcb1d3a1984",
   "metadata": {},
   "outputs": [],
   "source": [
    "# Variables representing the number of candies collected by alice, bob, and carol\n",
    "alice_candies = 121\n",
    "bob_candies = 77\n",
    "carol_candies = 109\n",
    "\n",
    "# Your code goes here! Replace the right-hand side of this assignment with an expression\n",
    "# involving alice_candies, bob_candies, and carol_candies\n",
    "to_smash = (alice_candies + bob_candies + carol_candies) % 3"
   ]
  }
 ],
 "metadata": {
  "kernelspec": {
   "display_name": "Python 3 (ipykernel)",
   "language": "python",
   "name": "python3"
  },
  "language_info": {
   "codemirror_mode": {
    "name": "ipython",
    "version": 3
   },
   "file_extension": ".py",
   "mimetype": "text/x-python",
   "name": "python",
   "nbconvert_exporter": "python",
   "pygments_lexer": "ipython3",
   "version": "3.10.0"
  }
 },
 "nbformat": 4,
 "nbformat_minor": 5
}
