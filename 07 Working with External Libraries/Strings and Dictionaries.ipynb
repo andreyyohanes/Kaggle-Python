{
 "cells": [
  {
   "cell_type": "markdown",
   "id": "ec027438-45de-4c64-bd32-a767c7babc2d",
   "metadata": {},
   "source": [
    "### 0a\n",
    "***"
   ]
  },
  {
   "cell_type": "code",
   "execution_count": 1,
   "id": "79086369-a1d6-4261-9e37-774e35cd9905",
   "metadata": {},
   "outputs": [],
   "source": [
    "a = \"\"\n",
    "length = 0"
   ]
  },
  {
   "cell_type": "markdown",
   "id": "3bb9868a-04a6-447b-93b9-ad118277d7de",
   "metadata": {},
   "source": [
    "<br>"
   ]
  },
  {
   "cell_type": "markdown",
   "id": "645ef3fd-7c40-49ea-80ca-ab0679e59cc6",
   "metadata": {},
   "source": [
    "<br>"
   ]
  },
  {
   "cell_type": "markdown",
   "id": "0a671325-f733-457c-87c8-c9e12973c8c5",
   "metadata": {},
   "source": [
    "### 0b\n",
    "***"
   ]
  },
  {
   "cell_type": "code",
   "execution_count": 2,
   "id": "11ce09ea-5514-41cf-b99b-521313378f2b",
   "metadata": {},
   "outputs": [],
   "source": [
    "b = \"it's ok\"\n",
    "length = 7"
   ]
  },
  {
   "cell_type": "markdown",
   "id": "5f877669-0ac7-4ff1-8985-e938aae7130d",
   "metadata": {},
   "source": [
    "<br>"
   ]
  },
  {
   "cell_type": "markdown",
   "id": "c644c657-124e-4736-9775-bd56457b9d98",
   "metadata": {},
   "source": [
    "<br>"
   ]
  },
  {
   "cell_type": "markdown",
   "id": "792d52cc-fb8f-4fd1-9a52-1901f40f714a",
   "metadata": {},
   "source": [
    "### 0c\n",
    "***"
   ]
  },
  {
   "cell_type": "code",
   "execution_count": 3,
   "id": "fa0b928e-be4c-45fb-bb0f-be8a339940dd",
   "metadata": {},
   "outputs": [],
   "source": [
    "c = 'it\\'s ok'\n",
    "length = 7"
   ]
  },
  {
   "cell_type": "markdown",
   "id": "6ad5e9ef-6598-4472-ab3d-11c15f540330",
   "metadata": {},
   "source": [
    "<br>"
   ]
  },
  {
   "cell_type": "markdown",
   "id": "51275da9-ff5c-432f-b24d-75b004388596",
   "metadata": {},
   "source": [
    "<br>"
   ]
  },
  {
   "cell_type": "markdown",
   "id": "65fd2038-8db9-47db-ae5b-76b827bd1ab3",
   "metadata": {},
   "source": [
    "### 0d\n",
    "***"
   ]
  },
  {
   "cell_type": "code",
   "execution_count": 4,
   "id": "b0bb412b-c21b-44a2-8158-0c76115a330a",
   "metadata": {},
   "outputs": [],
   "source": [
    "d = \"\"\"hey\"\"\"\n",
    "length = 3"
   ]
  },
  {
   "cell_type": "markdown",
   "id": "723d0f2c-546e-46f7-98bf-7bd75f3a5b93",
   "metadata": {},
   "source": [
    "<br>"
   ]
  },
  {
   "cell_type": "markdown",
   "id": "3fe850cf-36dd-456a-b70b-3ffd71b85437",
   "metadata": {},
   "source": [
    "<br>"
   ]
  },
  {
   "cell_type": "markdown",
   "id": "f9ff4f99-6ca6-45f2-901f-d7c79749856d",
   "metadata": {},
   "source": [
    "### 0e\n",
    "***"
   ]
  },
  {
   "cell_type": "code",
   "execution_count": 5,
   "id": "82e37a22-65c2-421a-9866-5fd450b6c109",
   "metadata": {},
   "outputs": [],
   "source": [
    "e = '\\n'\n",
    "length = 1"
   ]
  },
  {
   "cell_type": "markdown",
   "id": "4b4a3c57-fea7-4034-b443-317ae664785b",
   "metadata": {},
   "source": [
    "<br>"
   ]
  },
  {
   "cell_type": "markdown",
   "id": "0fc4b3a6-7344-4284-87b0-33ca3e94ab28",
   "metadata": {},
   "source": [
    "<br>"
   ]
  },
  {
   "cell_type": "markdown",
   "id": "a468e988-cbc8-4b3e-b730-2c8cf45e3649",
   "metadata": {},
   "source": [
    "### 1\n",
    "***"
   ]
  },
  {
   "cell_type": "code",
   "execution_count": 1,
   "id": "1bdfaff8-b156-48d2-b732-cc6dec62577a",
   "metadata": {},
   "outputs": [],
   "source": [
    "def is_valid_zip(zip_code):\n",
    "    \"\"\"Returns whether the input string is a valid (5 digit) zip code\n",
    "    \"\"\"\n",
    "    return zip_code.isdigit() and len(zip_code) == 5"
   ]
  },
  {
   "cell_type": "markdown",
   "id": "e941c96d-229a-4dcf-be49-5096ccef4d7d",
   "metadata": {},
   "source": [
    "<br>"
   ]
  },
  {
   "cell_type": "markdown",
   "id": "16a3e2c5-26c7-4852-b149-ac06428daedc",
   "metadata": {},
   "source": [
    "<br>"
   ]
  },
  {
   "cell_type": "markdown",
   "id": "9d047ccf-771b-4da5-8530-765041cd98fa",
   "metadata": {},
   "source": [
    "### 2\n",
    "***"
   ]
  },
  {
   "cell_type": "code",
   "execution_count": 1,
   "id": "d021025a-bf5a-4b3e-b380-ebabe8c3e351",
   "metadata": {},
   "outputs": [],
   "source": [
    "def word_search(doc_list, keyword):\n",
    "    \"\"\"\n",
    "    Takes a list of documents (each document is a string) and a keyword. \n",
    "    Returns list of the index values into the original list for all documents \n",
    "    containing the keyword.\n",
    "\n",
    "    Example:\n",
    "    doc_list = [\"The Learn Python Challenge Casino.\", \"They bought a car\", \"Casinoville\"]\n",
    "    >>> word_search(doc_list, 'casino')\n",
    "    >>> [0]\n",
    "    \"\"\"\n",
    "    ind = []\n",
    "    for i, doc in enumerate(doc_list):\n",
    "        if keyword.lower() in doc.lower().replace(',','').replace('.','').split():\n",
    "            ind.append(i)\n",
    "    return ind"
   ]
  },
  {
   "cell_type": "markdown",
   "id": "6202a88f-58f5-4ce9-b563-a11c248565ac",
   "metadata": {},
   "source": [
    "<br>"
   ]
  },
  {
   "cell_type": "markdown",
   "id": "dc27ae6f-ca7a-4403-b13d-439f96ca83e8",
   "metadata": {},
   "source": [
    "<br>"
   ]
  },
  {
   "cell_type": "markdown",
   "id": "f1f888d5-9e95-4e8f-8c8c-7d0985f151e7",
   "metadata": {},
   "source": [
    "### 3\n",
    "***"
   ]
  },
  {
   "cell_type": "code",
   "execution_count": 1,
   "id": "449b80e5-c699-4d17-8f44-b59b35d7c726",
   "metadata": {},
   "outputs": [],
   "source": [
    "def multi_word_search(doc_list, keywords):\n",
    "    \"\"\"\n",
    "    Takes list of documents (each document is a string) and a list of keywords.  \n",
    "    Returns a dictionary where each key is a keyword, and the value is a list of indices\n",
    "    (from doc_list) of the documents containing that keyword\n",
    "\n",
    "    >>> doc_list = [\"The Learn Python Challenge Casino.\", \"They bought a car and a casino\", \"Casinoville\"]\n",
    "    >>> keywords = ['casino', 'they']\n",
    "    >>> multi_word_search(doc_list, keywords)\n",
    "    {'casino': [0, 1], 'they': [1]}\n",
    "    \"\"\"\n",
    "    kw_ind = {}\n",
    "    for keyword in keywords:\n",
    "        kw_ind[keyword] = word_search(doc_list, keyword)\n",
    "    return kw_ind"
   ]
  }
 ],
 "metadata": {
  "kernelspec": {
   "display_name": "Python 3 (ipykernel)",
   "language": "python",
   "name": "python3"
  },
  "language_info": {
   "codemirror_mode": {
    "name": "ipython",
    "version": 3
   },
   "file_extension": ".py",
   "mimetype": "text/x-python",
   "name": "python",
   "nbconvert_exporter": "python",
   "pygments_lexer": "ipython3",
   "version": "3.10.0"
  }
 },
 "nbformat": 4,
 "nbformat_minor": 5
}
