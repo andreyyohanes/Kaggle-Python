{
 "cells": [
  {
   "cell_type": "markdown",
   "id": "63a6b717-34b4-40e9-a34e-75f1c0980019",
   "metadata": {},
   "source": [
    "### 1\n",
    "***"
   ]
  },
  {
   "cell_type": "code",
   "execution_count": 1,
   "id": "89a7f36a-4ea1-4e88-ae5e-29c3ea50a3f1",
   "metadata": {},
   "outputs": [],
   "source": [
    "def prettify_graph(graph):\n",
    "    \"\"\"Modify the given graph according to Jimmy's requests: add a title, make the y-axis\n",
    "    start at 0, label the y-axis. (And, if you're feeling ambitious, format the tick marks\n",
    "    as dollar amounts using the \"$\" symbol.)\n",
    "    \"\"\"\n",
    "    graph.set_title(\"Results of 500 slot machine pulls\")\n",
    "    graph.set_ylim(bottom=0)\n",
    "    graph.set_ylabel(\"Balance\")\n",
    "    ticks = graph.get_yticks()\n",
    "    labels = [f'${int(tick)}' for tick in ticks]\n",
    "    graph.set_yticklabels(labels)"
   ]
  },
  {
   "cell_type": "markdown",
   "id": "17bac1f9-0d9c-4462-b14c-8d09c459d434",
   "metadata": {},
   "source": [
    "<br>"
   ]
  },
  {
   "cell_type": "markdown",
   "id": "a17ca86c-9a09-4eb2-b648-05ed0b8a58ca",
   "metadata": {},
   "source": [
    "<br>"
   ]
  },
  {
   "cell_type": "markdown",
   "id": "a0c95846-f958-42ba-b9cc-0fcdb951bc27",
   "metadata": {},
   "source": [
    "### 2\n",
    "***"
   ]
  },
  {
   "cell_type": "code",
   "execution_count": 1,
   "id": "a0cd07b5-b557-42ec-be74-8ae1698eca96",
   "metadata": {},
   "outputs": [],
   "source": [
    "# Fix me!\n",
    "def best_items(racers):\n",
    "    winner_item_counts = {}\n",
    "    for i in range(len(racers)):\n",
    "        # The i'th racer dictionary\n",
    "        racer = racers[i]\n",
    "        # We're only interested in racers who finished in first\n",
    "        if racer['finish'] == 1:\n",
    "            for item in racer['items']:\n",
    "                # Add one to the count for this item (adding it to the dict if necessary)\n",
    "                if i not in winner_item_counts:\n",
    "                    winner_item_counts[i] = 0\n",
    "                winner_item_counts[i] += 1\n",
    "\n",
    "        # Data quality issues :/ Print a warning about racers with no name set. We'll take care of it later.\n",
    "        if racer['name'] is None:\n",
    "            print(\"WARNING: Encountered racer with unknown name on iteration {}/{} (racer = {})\".format(\n",
    "                i+1, len(racers), racer['name'])\n",
    "                 )\n",
    "    return winner_item_counts"
   ]
  },
  {
   "cell_type": "markdown",
   "id": "7109b045-8aa7-4f15-804a-a22ffd4b3f49",
   "metadata": {},
   "source": [
    "<br>"
   ]
  },
  {
   "cell_type": "markdown",
   "id": "c9426792-597a-4ee5-940f-2f3e1b4fcad6",
   "metadata": {},
   "source": [
    "<br>"
   ]
  },
  {
   "cell_type": "markdown",
   "id": "ebf29fb4-dcf9-48ab-afa8-9d7de925d383",
   "metadata": {},
   "source": [
    "### 3\n",
    "***"
   ]
  },
  {
   "cell_type": "code",
   "execution_count": 1,
   "id": "d232dc14-c12d-42a7-83f8-4903a88fc734",
   "metadata": {},
   "outputs": [],
   "source": [
    "def blackjack_hand_greater_than(hand_1, hand_2):\n",
    "    def hand_count(hand):\n",
    "        total = 0\n",
    "        ace = 0    \n",
    "        for card in hand:\n",
    "            if card.isdigit():\n",
    "                total += int(card)\n",
    "            elif card in 'KQJ':\n",
    "                total += 10\n",
    "            else:\n",
    "                total += 1\n",
    "                ace += 1\n",
    "        while total + 10 <= 21 and ace > 0:\n",
    "            total += 10\n",
    "            ace -= 1\n",
    "        return total\n",
    "    return hand_count(hand_1) <= 21 and (hand_count(hand_2) > 21 or hand_count(hand_1) > hand_count(hand_2))"
   ]
  }
 ],
 "metadata": {
  "kernelspec": {
   "display_name": "Python 3 (ipykernel)",
   "language": "python",
   "name": "python3"
  },
  "language_info": {
   "codemirror_mode": {
    "name": "ipython",
    "version": 3
   },
   "file_extension": ".py",
   "mimetype": "text/x-python",
   "name": "python",
   "nbconvert_exporter": "python",
   "pygments_lexer": "ipython3",
   "version": "3.10.0"
  }
 },
 "nbformat": 4,
 "nbformat_minor": 5
}
