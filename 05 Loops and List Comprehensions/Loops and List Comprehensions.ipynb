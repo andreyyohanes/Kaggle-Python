{
 "cells": [
  {
   "cell_type": "markdown",
   "id": "68888551-4a22-4308-892a-caffec70e439",
   "metadata": {},
   "source": [
    "### 1\n",
    "***"
   ]
  },
  {
   "cell_type": "code",
   "execution_count": 1,
   "id": "3050a2a7-16ef-45c3-9997-7818cbea5ddf",
   "metadata": {},
   "outputs": [],
   "source": [
    "def has_lucky_number(nums):\n",
    "    \"\"\"Return whether the given list of numbers is lucky. A lucky list contains\n",
    "    at least one number divisible by 7.\n",
    "    \"\"\"\n",
    "    for num in nums:\n",
    "        if num % 7 == 0:\n",
    "            return True\n",
    "    return False"
   ]
  },
  {
   "cell_type": "markdown",
   "id": "b39c6ae1-de29-4edb-83ee-8985e80f0c11",
   "metadata": {},
   "source": [
    "<br>"
   ]
  },
  {
   "cell_type": "markdown",
   "id": "25d83612-daaa-4158-9da5-4712ed41e7e3",
   "metadata": {},
   "source": [
    "<br>"
   ]
  },
  {
   "cell_type": "markdown",
   "id": "94230c56-9c09-4f43-816a-19058c55ff5c",
   "metadata": {},
   "source": [
    "### 2\n",
    "***"
   ]
  },
  {
   "cell_type": "code",
   "execution_count": 1,
   "id": "3b4b33ba-82d1-40fb-9f47-47544e3cfb53",
   "metadata": {},
   "outputs": [],
   "source": [
    "def elementwise_greater_than(L, thresh):\n",
    "    \"\"\"Return a list with the same length as L, where the value at index i is \n",
    "    True if L[i] is greater than thresh, and False otherwise.\n",
    "    \n",
    "    >>> elementwise_greater_than([1, 2, 3, 4], 2)\n",
    "    [False, False, True, True]\n",
    "    \"\"\"\n",
    "    return [l > thresh for l in L]"
   ]
  },
  {
   "cell_type": "markdown",
   "id": "ef672929-afd5-4a3e-8574-5ecfb72f10cc",
   "metadata": {},
   "source": [
    "<br>"
   ]
  },
  {
   "cell_type": "markdown",
   "id": "8d3bdc7f-a11c-4182-8328-c736b55ab481",
   "metadata": {},
   "source": [
    "<br>"
   ]
  },
  {
   "cell_type": "markdown",
   "id": "c3180eb1-216a-43b6-ab72-e052c2bfba3b",
   "metadata": {},
   "source": [
    "### 3\n",
    "***"
   ]
  },
  {
   "cell_type": "code",
   "execution_count": 1,
   "id": "dc1b23d5-131d-43a2-b2cf-45a9730e28b0",
   "metadata": {},
   "outputs": [],
   "source": [
    "def menu_is_boring(meals):\n",
    "    \"\"\"Given a list of meals served over some period of time, return True if the\n",
    "    same meal has ever been served two days in a row, and False otherwise.\n",
    "    \"\"\"\n",
    "    for i in range(len(meals)-1):\n",
    "        if meals[i] == meals[i+1]:\n",
    "            return True\n",
    "    return False"
   ]
  },
  {
   "cell_type": "markdown",
   "id": "cefb0b4f-e128-41ac-a975-ca6b44d05920",
   "metadata": {},
   "source": [
    "<br>"
   ]
  },
  {
   "cell_type": "markdown",
   "id": "14c90d34-38fc-4afb-8768-b48106457352",
   "metadata": {},
   "source": [
    "<br>"
   ]
  },
  {
   "cell_type": "markdown",
   "id": "1b566359-96e1-4f16-9912-fb0c8558f8ec",
   "metadata": {},
   "source": [
    "### 4\n",
    "***"
   ]
  },
  {
   "cell_type": "code",
   "execution_count": 1,
   "id": "8005d691-e1f8-45f1-a857-51b6ea51d239",
   "metadata": {},
   "outputs": [],
   "source": [
    "def estimate_average_slot_payout(n_runs):\n",
    "    \"\"\"Run the slot machine n_runs times and return the average net profit per run.\n",
    "    Example calls (note that return value is nondeterministic!):\n",
    "    >>> estimate_average_slot_payout(1)\n",
    "    -1\n",
    "    >>> estimate_average_slot_payout(1)\n",
    "    0.5\n",
    "    \"\"\"\n",
    "    return sum([play_slot_machine()-1 for i in range(n_runs)]) / n_runs"
   ]
  }
 ],
 "metadata": {
  "kernelspec": {
   "display_name": "Python 3 (ipykernel)",
   "language": "python",
   "name": "python3"
  },
  "language_info": {
   "codemirror_mode": {
    "name": "ipython",
    "version": 3
   },
   "file_extension": ".py",
   "mimetype": "text/x-python",
   "name": "python",
   "nbconvert_exporter": "python",
   "pygments_lexer": "ipython3",
   "version": "3.10.0"
  }
 },
 "nbformat": 4,
 "nbformat_minor": 5
}
