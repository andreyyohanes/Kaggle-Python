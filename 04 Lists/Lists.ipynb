{
 "cells": [
  {
   "cell_type": "markdown",
   "id": "a75317b3-0d24-42c4-a4aa-4ec2216993d7",
   "metadata": {},
   "source": [
    "### 1\n",
    "***"
   ]
  },
  {
   "cell_type": "code",
   "execution_count": 1,
   "id": "e0634bb5-be82-42e7-aad3-9a9c39fa910d",
   "metadata": {},
   "outputs": [],
   "source": [
    "def select_second(L):\n",
    "    \"\"\"Return the second element of the given list. If the list has no second\n",
    "    element, return None.\n",
    "    \"\"\"\n",
    "    return L[1] if len(L) >= 2 else None"
   ]
  },
  {
   "cell_type": "markdown",
   "id": "cba13b21-6185-483e-aba8-4b65b1da516b",
   "metadata": {},
   "source": [
    "<br>"
   ]
  },
  {
   "cell_type": "markdown",
   "id": "3fac6e93-6e1a-499d-9e31-6ad800ae549d",
   "metadata": {},
   "source": [
    "<br>"
   ]
  },
  {
   "cell_type": "markdown",
   "id": "5773d245-ecb1-4ce0-a489-00e454282600",
   "metadata": {},
   "source": [
    "### 2\n",
    "***"
   ]
  },
  {
   "cell_type": "code",
   "execution_count": 1,
   "id": "806570c7-9db2-4211-9faf-2c3047be4097",
   "metadata": {},
   "outputs": [],
   "source": [
    "def losing_team_captain(teams):\n",
    "    \"\"\"Given a list of teams, where each team is a list of names, return the 2nd player (captain)\n",
    "    from the last listed team\n",
    "    \"\"\"\n",
    "    return teams[-1][1]"
   ]
  },
  {
   "cell_type": "markdown",
   "id": "41dda165-9624-4f04-a098-ce30ae68cc90",
   "metadata": {},
   "source": [
    "<br>"
   ]
  },
  {
   "cell_type": "markdown",
   "id": "1e9fe5fe-01a3-40ca-a6a0-dccea2620d3f",
   "metadata": {},
   "source": [
    "<br>"
   ]
  },
  {
   "cell_type": "markdown",
   "id": "6c0badba-7c3c-4088-a19d-6f6adba1437c",
   "metadata": {},
   "source": [
    "### 3\n",
    "***"
   ]
  },
  {
   "cell_type": "code",
   "execution_count": 1,
   "id": "c8d4d9f3-7ea9-4d35-9a70-15e97231717f",
   "metadata": {},
   "outputs": [],
   "source": [
    "def purple_shell(racers):\n",
    "    \"\"\"Given a list of racers, set the first place racer (at the front of the list) to last\n",
    "    place and vice versa.\n",
    "    \n",
    "    >>> r = [\"Mario\", \"Bowser\", \"Luigi\"]\n",
    "    >>> purple_shell(r)\n",
    "    >>> r\n",
    "    [\"Luigi\", \"Bowser\", \"Mario\"]\n",
    "    \"\"\"\n",
    "    racers[0], racers[-1] = racers[-1], racers[0]"
   ]
  },
  {
   "cell_type": "markdown",
   "id": "37061d88-4214-4b2d-b3a3-8c6c2408fbe3",
   "metadata": {},
   "source": [
    "<br>"
   ]
  },
  {
   "cell_type": "markdown",
   "id": "67d37659-5389-4e4d-be49-cad535314041",
   "metadata": {},
   "source": [
    "<br>"
   ]
  },
  {
   "cell_type": "markdown",
   "id": "e072a90b-3877-485b-8f6d-666ffc9b1be5",
   "metadata": {},
   "source": [
    "### 4\n",
    "***"
   ]
  },
  {
   "cell_type": "code",
   "execution_count": 1,
   "id": "b46e206e-5a96-42f4-8c7d-2ab1e29d7dfd",
   "metadata": {},
   "outputs": [],
   "source": [
    "a = [1, 2, 3]\n",
    "b = [1, [2, 3]]\n",
    "c = []\n",
    "d = [1, 2, 3][1:]\n",
    "\n",
    "# Put your predictions in the list below. Lengths should contain 4 numbers, the\n",
    "# first being the length of a, the second being the length of b and so on.\n",
    "lengths = [3, 2, 0, 2]"
   ]
  },
  {
   "cell_type": "markdown",
   "id": "b225554e-729b-4ed3-94a9-04043cf849dc",
   "metadata": {},
   "source": [
    "<br>"
   ]
  },
  {
   "cell_type": "markdown",
   "id": "23718f3e-461a-436e-87af-744828758cbc",
   "metadata": {},
   "source": [
    "<br>"
   ]
  },
  {
   "cell_type": "markdown",
   "id": "51287fb3-3098-4980-9fd2-5ad3cb13f78e",
   "metadata": {},
   "source": [
    "### 5\n",
    "***"
   ]
  },
  {
   "cell_type": "code",
   "execution_count": 1,
   "id": "3e7e3218-c978-43e4-8f6a-855344e31e9c",
   "metadata": {},
   "outputs": [],
   "source": [
    "def fashionably_late(arrivals, name):\n",
    "    \"\"\"Given an ordered list of arrivals to the party and a name, return whether the guest with that\n",
    "    name was fashionably late.\n",
    "    \"\"\"\n",
    "    return len(arrivals) / 2 <= arrivals.index(name) < len(arrivals) - 1"
   ]
  }
 ],
 "metadata": {
  "kernelspec": {
   "display_name": "Python 3 (ipykernel)",
   "language": "python",
   "name": "python3"
  },
  "language_info": {
   "codemirror_mode": {
    "name": "ipython",
    "version": 3
   },
   "file_extension": ".py",
   "mimetype": "text/x-python",
   "name": "python",
   "nbconvert_exporter": "python",
   "pygments_lexer": "ipython3",
   "version": "3.10.0"
  }
 },
 "nbformat": 4,
 "nbformat_minor": 5
}
